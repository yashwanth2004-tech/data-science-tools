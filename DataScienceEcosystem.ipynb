{
 "cells": [
  {
   "cell_type": "markdown",
   "id": "56163287-f49f-4d27-b11a-db23688aa48f",
   "metadata": {},
   "source": [
    "#execute it as a markdown cell\n",
    "#<h1>data science tools and ecosystem<h1>"
   ]
  },
  {
   "cell_type": "markdown",
   "id": "7713b3dd-944f-4eba-a65e-8241881c642e",
   "metadata": {},
   "source": [
    "#execute it as a markdown cell\n",
    "#<h1>in this notebook,data science tools and ecosystem are summarised<h1>"
   ]
  },
  {
   "cell_type": "markdown",
   "id": "ca56b9f8-5d80-4b74-8c9f-f49cbc2b11e3",
   "metadata": {},
   "source": [
    "#execute it as a markdown cell\n",
    "#<h1>data science languages<h1>\n",
    "#<h2>python<h2>\n",
    "#<h3>sql<h3>\n",
    "#<h4>julia<h4>"
   ]
  },
  {
   "cell_type": "markdown",
   "id": "96b35a14-ff12-4364-8e57-5cf9ab2022cd",
   "metadata": {},
   "source": [
    "#execute it as a markdown cell\n",
    "#<h1>numpy<h1>\n",
    "#<h2>scipy<h2>\n",
    "#matplotlib<h3>"
   ]
  },
  {
   "cell_type": "markdown",
   "id": "bafeb3bd-c89c-47e2-8cdf-fcfa90d6a789",
   "metadata": {},
   "source": [
    "#execute it as a markdown cells\n",
    "|data science tools|\n",
    "|-----------|\n",
    "|apache spark|\n",
    "|tabelous|\n",
    "|jyupter|\n",
    "|tensorflow|"
   ]
  },
  {
   "cell_type": "markdown",
   "id": "20a8cb09-ae02-4655-8ed1-804176533177",
   "metadata": {},
   "source": [
    "#execute it as a markdown cell\n",
    "$a^2+3ab+b^3$"
   ]
  },
  {
   "cell_type": "code",
   "execution_count": 7,
   "id": "a0e8ce3e-89f4-4782-bfe8-732a9d9e6fe8",
   "metadata": {},
   "outputs": [
    {
     "name": "stdout",
     "output_type": "stream",
     "text": [
      "Multiplication Result: 17\n"
     ]
    }
   ],
   "source": [
    "# Define the numbers\n",
    "a = 3\n",
    "b = 4\n",
    "c = 5\n",
    "# Multiply the numbers\n",
    "multiplication_result = a * b + c\n",
    "\n",
    "# Display the results\n",
    "print(\"Multiplication Result:\", multiplication_result)\n"
   ]
  },
  {
   "cell_type": "code",
   "execution_count": 8,
   "id": "60db51a0-e107-4b77-a468-9f2301791608",
   "metadata": {},
   "outputs": [
    {
     "name": "stdout",
     "output_type": "stream",
     "text": [
      "120 minutes is equal to 2.0 hours\n"
     ]
    }
   ],
   "source": [
    "\n",
    "minutes = 120\n",
    "\n",
    "hours = minutes / 60\n",
    "\n",
    "print(f\"{minutes} minutes is equal to {hours} hours\")\n"
   ]
  },
  {
   "cell_type": "code",
   "execution_count": 10,
   "id": "38de6e09-48af-48e9-ba01-29a27a38065c",
   "metadata": {},
   "outputs": [
    {
     "ename": "SyntaxError",
     "evalue": "invalid syntax (2549421653.py, line 3)",
     "output_type": "error",
     "traceback": [
      "\u001b[1;36m  Cell \u001b[1;32mIn[10], line 3\u001b[1;36m\u001b[0m\n\u001b[1;33m    - Understand how to perform basic arithmetic operations (addition and multiplication) in Python.\u001b[0m\n\u001b[1;37m                 ^\u001b[0m\n\u001b[1;31mSyntaxError\u001b[0m\u001b[1;31m:\u001b[0m invalid syntax\n"
     ]
    }
   ],
   "source": [
    "### Objectives\n",
    "\n",
    "- ### Objectives\n",
    "\n",
    "- Understand how to perform basic arithmetic operations (addition and multiplication) in Python.\n",
    "- Learn how to convert time from minutes to hours.\n",
    "- Practice creating and using code cells in Jupyter Notebook.\n",
    "- Familiarize with the use of markdown cells for documentation and note-taking.\n",
    ".\n"
   ]
  },
  {
   "cell_type": "markdown",
   "id": "b264ab04-868e-4c53-8c1a-e49632a4d40e",
   "metadata": {},
   "source": [
    "#execute it as a markdowncell\n",
    "###objectives\n",
    "#<h1> Understand how to perform basic arithmetic operations (addition and multiplication) in Python<h1>\n",
    "#<h2>Learn how to convert time from minutes to hours<h2>\n",
    "#<h3>Practice creating and using code cells in Jupyter Notebook<h3>\n",
    "."
   ]
  },
  {
   "cell_type": "markdown",
   "id": "1217f63e-065d-4b4d-8159-5608d8252d8e",
   "metadata": {},
   "source": [
    "#execute it as a markdoen cell\n",
    "**Author:** [yashwanth reddy]\r\n"
   ]
  },
  {
   "cell_type": "code",
   "execution_count": null,
   "id": "5c3b2557-759e-4616-bc54-7c58594950f1",
   "metadata": {},
   "outputs": [],
   "source": []
  }
 ],
 "metadata": {
  "kernelspec": {
   "display_name": "Python 3 (ipykernel)",
   "language": "python",
   "name": "python3"
  },
  "language_info": {
   "codemirror_mode": {
    "name": "ipython",
    "version": 3
   },
   "file_extension": ".py",
   "mimetype": "text/x-python",
   "name": "python",
   "nbconvert_exporter": "python",
   "pygments_lexer": "ipython3",
   "version": "3.12.4"
  }
 },
 "nbformat": 4,
 "nbformat_minor": 5
}
